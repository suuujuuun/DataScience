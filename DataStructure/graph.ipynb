{
 "cells": [
  {
   "cell_type": "markdown",
   "id": "e789b8b0",
   "metadata": {},
   "source": [
    "Terminology : Node , vertex, relationship, link , edge"
   ]
  }
 ],
 "metadata": {
  "language_info": {
   "name": "python"
  }
 },
 "nbformat": 4,
 "nbformat_minor": 5
}
